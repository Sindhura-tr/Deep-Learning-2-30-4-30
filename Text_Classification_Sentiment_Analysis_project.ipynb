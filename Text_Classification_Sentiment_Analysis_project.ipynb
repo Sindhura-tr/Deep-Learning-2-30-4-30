{
  "nbformat": 4,
  "nbformat_minor": 0,
  "metadata": {
    "colab": {
      "provenance": [],
      "gpuType": "T4",
      "authorship_tag": "ABX9TyNPJzOHqbDTkEuPuwkMzXbQ",
      "include_colab_link": true
    },
    "kernelspec": {
      "name": "python3",
      "display_name": "Python 3"
    },
    "language_info": {
      "name": "python"
    },
    "accelerator": "GPU"
  },
  "cells": [
    {
      "cell_type": "markdown",
      "metadata": {
        "id": "view-in-github",
        "colab_type": "text"
      },
      "source": [
        "<a href=\"https://colab.research.google.com/github/Sindhura-tr/Deep-Learning-2-30-4-30/blob/main/Text_Classification_Sentiment_Analysis_project.ipynb\" target=\"_parent\"><img src=\"https://colab.research.google.com/assets/colab-badge.svg\" alt=\"Open In Colab\"/></a>"
      ]
    },
    {
      "cell_type": "markdown",
      "source": [
        "## Sentiment Analysis"
      ],
      "metadata": {
        "id": "JQaIctK5Oxzt"
      }
    },
    {
      "cell_type": "code",
      "execution_count": 1,
      "metadata": {
        "colab": {
          "base_uri": "https://localhost:8080/",
          "height": 206
        },
        "id": "FzZ6W_xZOreK",
        "outputId": "94986392-f7a7-4570-d4e7-a3d327bc0025"
      },
      "outputs": [
        {
          "output_type": "execute_result",
          "data": {
            "text/plain": [
              "                                              Review  Liked\n",
              "0                           Wow... Loved this place.      1\n",
              "1                                 Crust is not good.      0\n",
              "2          Not tasty and the texture was just nasty.      0\n",
              "3  Stopped by during the late May bank holiday of...      1\n",
              "4  The selection on the menu was great and so wer...      1"
            ],
            "text/html": [
              "\n",
              "  <div id=\"df-1f649988-9720-48ac-9e3f-bcc6c1da4efb\" class=\"colab-df-container\">\n",
              "    <div>\n",
              "<style scoped>\n",
              "    .dataframe tbody tr th:only-of-type {\n",
              "        vertical-align: middle;\n",
              "    }\n",
              "\n",
              "    .dataframe tbody tr th {\n",
              "        vertical-align: top;\n",
              "    }\n",
              "\n",
              "    .dataframe thead th {\n",
              "        text-align: right;\n",
              "    }\n",
              "</style>\n",
              "<table border=\"1\" class=\"dataframe\">\n",
              "  <thead>\n",
              "    <tr style=\"text-align: right;\">\n",
              "      <th></th>\n",
              "      <th>Review</th>\n",
              "      <th>Liked</th>\n",
              "    </tr>\n",
              "  </thead>\n",
              "  <tbody>\n",
              "    <tr>\n",
              "      <th>0</th>\n",
              "      <td>Wow... Loved this place.</td>\n",
              "      <td>1</td>\n",
              "    </tr>\n",
              "    <tr>\n",
              "      <th>1</th>\n",
              "      <td>Crust is not good.</td>\n",
              "      <td>0</td>\n",
              "    </tr>\n",
              "    <tr>\n",
              "      <th>2</th>\n",
              "      <td>Not tasty and the texture was just nasty.</td>\n",
              "      <td>0</td>\n",
              "    </tr>\n",
              "    <tr>\n",
              "      <th>3</th>\n",
              "      <td>Stopped by during the late May bank holiday of...</td>\n",
              "      <td>1</td>\n",
              "    </tr>\n",
              "    <tr>\n",
              "      <th>4</th>\n",
              "      <td>The selection on the menu was great and so wer...</td>\n",
              "      <td>1</td>\n",
              "    </tr>\n",
              "  </tbody>\n",
              "</table>\n",
              "</div>\n",
              "    <div class=\"colab-df-buttons\">\n",
              "\n",
              "  <div class=\"colab-df-container\">\n",
              "    <button class=\"colab-df-convert\" onclick=\"convertToInteractive('df-1f649988-9720-48ac-9e3f-bcc6c1da4efb')\"\n",
              "            title=\"Convert this dataframe to an interactive table.\"\n",
              "            style=\"display:none;\">\n",
              "\n",
              "  <svg xmlns=\"http://www.w3.org/2000/svg\" height=\"24px\" viewBox=\"0 -960 960 960\">\n",
              "    <path d=\"M120-120v-720h720v720H120Zm60-500h600v-160H180v160Zm220 220h160v-160H400v160Zm0 220h160v-160H400v160ZM180-400h160v-160H180v160Zm440 0h160v-160H620v160ZM180-180h160v-160H180v160Zm440 0h160v-160H620v160Z\"/>\n",
              "  </svg>\n",
              "    </button>\n",
              "\n",
              "  <style>\n",
              "    .colab-df-container {\n",
              "      display:flex;\n",
              "      gap: 12px;\n",
              "    }\n",
              "\n",
              "    .colab-df-convert {\n",
              "      background-color: #E8F0FE;\n",
              "      border: none;\n",
              "      border-radius: 50%;\n",
              "      cursor: pointer;\n",
              "      display: none;\n",
              "      fill: #1967D2;\n",
              "      height: 32px;\n",
              "      padding: 0 0 0 0;\n",
              "      width: 32px;\n",
              "    }\n",
              "\n",
              "    .colab-df-convert:hover {\n",
              "      background-color: #E2EBFA;\n",
              "      box-shadow: 0px 1px 2px rgba(60, 64, 67, 0.3), 0px 1px 3px 1px rgba(60, 64, 67, 0.15);\n",
              "      fill: #174EA6;\n",
              "    }\n",
              "\n",
              "    .colab-df-buttons div {\n",
              "      margin-bottom: 4px;\n",
              "    }\n",
              "\n",
              "    [theme=dark] .colab-df-convert {\n",
              "      background-color: #3B4455;\n",
              "      fill: #D2E3FC;\n",
              "    }\n",
              "\n",
              "    [theme=dark] .colab-df-convert:hover {\n",
              "      background-color: #434B5C;\n",
              "      box-shadow: 0px 1px 3px 1px rgba(0, 0, 0, 0.15);\n",
              "      filter: drop-shadow(0px 1px 2px rgba(0, 0, 0, 0.3));\n",
              "      fill: #FFFFFF;\n",
              "    }\n",
              "  </style>\n",
              "\n",
              "    <script>\n",
              "      const buttonEl =\n",
              "        document.querySelector('#df-1f649988-9720-48ac-9e3f-bcc6c1da4efb button.colab-df-convert');\n",
              "      buttonEl.style.display =\n",
              "        google.colab.kernel.accessAllowed ? 'block' : 'none';\n",
              "\n",
              "      async function convertToInteractive(key) {\n",
              "        const element = document.querySelector('#df-1f649988-9720-48ac-9e3f-bcc6c1da4efb');\n",
              "        const dataTable =\n",
              "          await google.colab.kernel.invokeFunction('convertToInteractive',\n",
              "                                                    [key], {});\n",
              "        if (!dataTable) return;\n",
              "\n",
              "        const docLinkHtml = 'Like what you see? Visit the ' +\n",
              "          '<a target=\"_blank\" href=https://colab.research.google.com/notebooks/data_table.ipynb>data table notebook</a>'\n",
              "          + ' to learn more about interactive tables.';\n",
              "        element.innerHTML = '';\n",
              "        dataTable['output_type'] = 'display_data';\n",
              "        await google.colab.output.renderOutput(dataTable, element);\n",
              "        const docLink = document.createElement('div');\n",
              "        docLink.innerHTML = docLinkHtml;\n",
              "        element.appendChild(docLink);\n",
              "      }\n",
              "    </script>\n",
              "  </div>\n",
              "\n",
              "\n",
              "    <div id=\"df-0db9feed-74b5-4bd7-b929-a87982b7ef9a\">\n",
              "      <button class=\"colab-df-quickchart\" onclick=\"quickchart('df-0db9feed-74b5-4bd7-b929-a87982b7ef9a')\"\n",
              "                title=\"Suggest charts\"\n",
              "                style=\"display:none;\">\n",
              "\n",
              "<svg xmlns=\"http://www.w3.org/2000/svg\" height=\"24px\"viewBox=\"0 0 24 24\"\n",
              "     width=\"24px\">\n",
              "    <g>\n",
              "        <path d=\"M19 3H5c-1.1 0-2 .9-2 2v14c0 1.1.9 2 2 2h14c1.1 0 2-.9 2-2V5c0-1.1-.9-2-2-2zM9 17H7v-7h2v7zm4 0h-2V7h2v10zm4 0h-2v-4h2v4z\"/>\n",
              "    </g>\n",
              "</svg>\n",
              "      </button>\n",
              "\n",
              "<style>\n",
              "  .colab-df-quickchart {\n",
              "      --bg-color: #E8F0FE;\n",
              "      --fill-color: #1967D2;\n",
              "      --hover-bg-color: #E2EBFA;\n",
              "      --hover-fill-color: #174EA6;\n",
              "      --disabled-fill-color: #AAA;\n",
              "      --disabled-bg-color: #DDD;\n",
              "  }\n",
              "\n",
              "  [theme=dark] .colab-df-quickchart {\n",
              "      --bg-color: #3B4455;\n",
              "      --fill-color: #D2E3FC;\n",
              "      --hover-bg-color: #434B5C;\n",
              "      --hover-fill-color: #FFFFFF;\n",
              "      --disabled-bg-color: #3B4455;\n",
              "      --disabled-fill-color: #666;\n",
              "  }\n",
              "\n",
              "  .colab-df-quickchart {\n",
              "    background-color: var(--bg-color);\n",
              "    border: none;\n",
              "    border-radius: 50%;\n",
              "    cursor: pointer;\n",
              "    display: none;\n",
              "    fill: var(--fill-color);\n",
              "    height: 32px;\n",
              "    padding: 0;\n",
              "    width: 32px;\n",
              "  }\n",
              "\n",
              "  .colab-df-quickchart:hover {\n",
              "    background-color: var(--hover-bg-color);\n",
              "    box-shadow: 0 1px 2px rgba(60, 64, 67, 0.3), 0 1px 3px 1px rgba(60, 64, 67, 0.15);\n",
              "    fill: var(--button-hover-fill-color);\n",
              "  }\n",
              "\n",
              "  .colab-df-quickchart-complete:disabled,\n",
              "  .colab-df-quickchart-complete:disabled:hover {\n",
              "    background-color: var(--disabled-bg-color);\n",
              "    fill: var(--disabled-fill-color);\n",
              "    box-shadow: none;\n",
              "  }\n",
              "\n",
              "  .colab-df-spinner {\n",
              "    border: 2px solid var(--fill-color);\n",
              "    border-color: transparent;\n",
              "    border-bottom-color: var(--fill-color);\n",
              "    animation:\n",
              "      spin 1s steps(1) infinite;\n",
              "  }\n",
              "\n",
              "  @keyframes spin {\n",
              "    0% {\n",
              "      border-color: transparent;\n",
              "      border-bottom-color: var(--fill-color);\n",
              "      border-left-color: var(--fill-color);\n",
              "    }\n",
              "    20% {\n",
              "      border-color: transparent;\n",
              "      border-left-color: var(--fill-color);\n",
              "      border-top-color: var(--fill-color);\n",
              "    }\n",
              "    30% {\n",
              "      border-color: transparent;\n",
              "      border-left-color: var(--fill-color);\n",
              "      border-top-color: var(--fill-color);\n",
              "      border-right-color: var(--fill-color);\n",
              "    }\n",
              "    40% {\n",
              "      border-color: transparent;\n",
              "      border-right-color: var(--fill-color);\n",
              "      border-top-color: var(--fill-color);\n",
              "    }\n",
              "    60% {\n",
              "      border-color: transparent;\n",
              "      border-right-color: var(--fill-color);\n",
              "    }\n",
              "    80% {\n",
              "      border-color: transparent;\n",
              "      border-right-color: var(--fill-color);\n",
              "      border-bottom-color: var(--fill-color);\n",
              "    }\n",
              "    90% {\n",
              "      border-color: transparent;\n",
              "      border-bottom-color: var(--fill-color);\n",
              "    }\n",
              "  }\n",
              "</style>\n",
              "\n",
              "      <script>\n",
              "        async function quickchart(key) {\n",
              "          const quickchartButtonEl =\n",
              "            document.querySelector('#' + key + ' button');\n",
              "          quickchartButtonEl.disabled = true;  // To prevent multiple clicks.\n",
              "          quickchartButtonEl.classList.add('colab-df-spinner');\n",
              "          try {\n",
              "            const charts = await google.colab.kernel.invokeFunction(\n",
              "                'suggestCharts', [key], {});\n",
              "          } catch (error) {\n",
              "            console.error('Error during call to suggestCharts:', error);\n",
              "          }\n",
              "          quickchartButtonEl.classList.remove('colab-df-spinner');\n",
              "          quickchartButtonEl.classList.add('colab-df-quickchart-complete');\n",
              "        }\n",
              "        (() => {\n",
              "          let quickchartButtonEl =\n",
              "            document.querySelector('#df-0db9feed-74b5-4bd7-b929-a87982b7ef9a button');\n",
              "          quickchartButtonEl.style.display =\n",
              "            google.colab.kernel.accessAllowed ? 'block' : 'none';\n",
              "        })();\n",
              "      </script>\n",
              "    </div>\n",
              "\n",
              "    </div>\n",
              "  </div>\n"
            ],
            "application/vnd.google.colaboratory.intrinsic+json": {
              "type": "dataframe",
              "variable_name": "df",
              "summary": "{\n  \"name\": \"df\",\n  \"rows\": 1000,\n  \"fields\": [\n    {\n      \"column\": \"Review\",\n      \"properties\": {\n        \"dtype\": \"string\",\n        \"num_unique_values\": 996,\n        \"samples\": [\n          \"They were excellent.\",\n          \"Your servers suck, wait, correction, our server Heimer sucked.\",\n          \"Will be back again!\"\n        ],\n        \"semantic_type\": \"\",\n        \"description\": \"\"\n      }\n    },\n    {\n      \"column\": \"Liked\",\n      \"properties\": {\n        \"dtype\": \"number\",\n        \"std\": 0,\n        \"min\": 0,\n        \"max\": 1,\n        \"num_unique_values\": 2,\n        \"samples\": [\n          0,\n          1\n        ],\n        \"semantic_type\": \"\",\n        \"description\": \"\"\n      }\n    }\n  ]\n}"
            }
          },
          "metadata": {},
          "execution_count": 1
        }
      ],
      "source": [
        "path= r\"https://raw.githubusercontent.com/Sindhura-tr/Datasets/refs/heads/main/Restaurant_Reviews.tsv\"\n",
        "import pandas as pd\n",
        "df = pd.read_csv(path,sep=\"\\t\")\n",
        "df.head()"
      ]
    },
    {
      "cell_type": "markdown",
      "source": [
        "## Text Preprocessing\n",
        "![image.png](data:image/png;base64,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)"
      ],
      "metadata": {
        "id": "wutQbuWIPIZg"
      }
    },
    {
      "cell_type": "code",
      "source": [
        "data1 = df['Review'][0]\n",
        "data1"
      ],
      "metadata": {
        "colab": {
          "base_uri": "https://localhost:8080/",
          "height": 36
        },
        "id": "51mmttd7PfnZ",
        "outputId": "955c766c-1481-4e51-85c5-e533841ff41f"
      },
      "execution_count": 2,
      "outputs": [
        {
          "output_type": "execute_result",
          "data": {
            "text/plain": [
              "'Wow... Loved this place.'"
            ],
            "application/vnd.google.colaboratory.intrinsic+json": {
              "type": "string"
            }
          },
          "metadata": {},
          "execution_count": 2
        }
      ]
    },
    {
      "cell_type": "code",
      "source": [
        "data1 = data1.lower()"
      ],
      "metadata": {
        "id": "DTlWQtJjPrQZ"
      },
      "execution_count": 3,
      "outputs": []
    },
    {
      "cell_type": "code",
      "source": [
        "import re"
      ],
      "metadata": {
        "id": "KX9Uzp__Pyof"
      },
      "execution_count": 4,
      "outputs": []
    },
    {
      "cell_type": "code",
      "source": [
        "pattern = \"[^a-z ]\" # ^-not"
      ],
      "metadata": {
        "id": "G6mtbyRdP3Dk"
      },
      "execution_count": 5,
      "outputs": []
    },
    {
      "cell_type": "code",
      "source": [
        "re.sub(pattern,\"\",data1)"
      ],
      "metadata": {
        "colab": {
          "base_uri": "https://localhost:8080/",
          "height": 36
        },
        "id": "RuGmYzsPP25K",
        "outputId": "f0d78d10-da22-43ad-af82-9a15160a3ca3"
      },
      "execution_count": 6,
      "outputs": [
        {
          "output_type": "execute_result",
          "data": {
            "text/plain": [
              "'wow loved this place'"
            ],
            "application/vnd.google.colaboratory.intrinsic+json": {
              "type": "string"
            }
          },
          "metadata": {},
          "execution_count": 6
        }
      ]
    },
    {
      "cell_type": "code",
      "source": [
        "def preprocess_text(text):\n",
        "  # convert all the text data to lower case\n",
        "  text = text.lower()\n",
        "  # replace the unnecessary/insignificant letters/special characters with blank string\n",
        "  pattern = \"[^a-z ]\"\n",
        "  text_new = re.sub(pattern,\"\",text)\n",
        "  return text_new"
      ],
      "metadata": {
        "id": "PVyykxCsPD_m"
      },
      "execution_count": 7,
      "outputs": []
    },
    {
      "cell_type": "code",
      "source": [
        "df[\"Review\"]"
      ],
      "metadata": {
        "colab": {
          "base_uri": "https://localhost:8080/",
          "height": 458
        },
        "id": "1RlSBiqURKJe",
        "outputId": "066836ce-bcd7-4967-ddb1-49185be587d5"
      },
      "execution_count": 8,
      "outputs": [
        {
          "output_type": "execute_result",
          "data": {
            "text/plain": [
              "0                               Wow... Loved this place.\n",
              "1                                     Crust is not good.\n",
              "2              Not tasty and the texture was just nasty.\n",
              "3      Stopped by during the late May bank holiday of...\n",
              "4      The selection on the menu was great and so wer...\n",
              "                             ...                        \n",
              "995    I think food should have flavor and texture an...\n",
              "996                             Appetite instantly gone.\n",
              "997    Overall I was not impressed and would not go b...\n",
              "998    The whole experience was underwhelming, and I ...\n",
              "999    Then, as if I hadn't wasted enough of my life ...\n",
              "Name: Review, Length: 1000, dtype: object"
            ],
            "text/html": [
              "<div>\n",
              "<style scoped>\n",
              "    .dataframe tbody tr th:only-of-type {\n",
              "        vertical-align: middle;\n",
              "    }\n",
              "\n",
              "    .dataframe tbody tr th {\n",
              "        vertical-align: top;\n",
              "    }\n",
              "\n",
              "    .dataframe thead th {\n",
              "        text-align: right;\n",
              "    }\n",
              "</style>\n",
              "<table border=\"1\" class=\"dataframe\">\n",
              "  <thead>\n",
              "    <tr style=\"text-align: right;\">\n",
              "      <th></th>\n",
              "      <th>Review</th>\n",
              "    </tr>\n",
              "  </thead>\n",
              "  <tbody>\n",
              "    <tr>\n",
              "      <th>0</th>\n",
              "      <td>Wow... Loved this place.</td>\n",
              "    </tr>\n",
              "    <tr>\n",
              "      <th>1</th>\n",
              "      <td>Crust is not good.</td>\n",
              "    </tr>\n",
              "    <tr>\n",
              "      <th>2</th>\n",
              "      <td>Not tasty and the texture was just nasty.</td>\n",
              "    </tr>\n",
              "    <tr>\n",
              "      <th>3</th>\n",
              "      <td>Stopped by during the late May bank holiday of...</td>\n",
              "    </tr>\n",
              "    <tr>\n",
              "      <th>4</th>\n",
              "      <td>The selection on the menu was great and so wer...</td>\n",
              "    </tr>\n",
              "    <tr>\n",
              "      <th>...</th>\n",
              "      <td>...</td>\n",
              "    </tr>\n",
              "    <tr>\n",
              "      <th>995</th>\n",
              "      <td>I think food should have flavor and texture an...</td>\n",
              "    </tr>\n",
              "    <tr>\n",
              "      <th>996</th>\n",
              "      <td>Appetite instantly gone.</td>\n",
              "    </tr>\n",
              "    <tr>\n",
              "      <th>997</th>\n",
              "      <td>Overall I was not impressed and would not go b...</td>\n",
              "    </tr>\n",
              "    <tr>\n",
              "      <th>998</th>\n",
              "      <td>The whole experience was underwhelming, and I ...</td>\n",
              "    </tr>\n",
              "    <tr>\n",
              "      <th>999</th>\n",
              "      <td>Then, as if I hadn't wasted enough of my life ...</td>\n",
              "    </tr>\n",
              "  </tbody>\n",
              "</table>\n",
              "<p>1000 rows × 1 columns</p>\n",
              "</div><br><label><b>dtype:</b> object</label>"
            ]
          },
          "metadata": {},
          "execution_count": 8
        }
      ]
    },
    {
      "cell_type": "code",
      "source": [
        "df[\"Preprocessed_Review\"] = df[\"Review\"].apply(preprocess_text)\n",
        "df.head()"
      ],
      "metadata": {
        "colab": {
          "base_uri": "https://localhost:8080/",
          "height": 206
        },
        "id": "rckJ9phURMtj",
        "outputId": "ca28f0ea-f1f6-4574-c81d-5233bb3b5884"
      },
      "execution_count": 9,
      "outputs": [
        {
          "output_type": "execute_result",
          "data": {
            "text/plain": [
              "                                              Review  Liked  \\\n",
              "0                           Wow... Loved this place.      1   \n",
              "1                                 Crust is not good.      0   \n",
              "2          Not tasty and the texture was just nasty.      0   \n",
              "3  Stopped by during the late May bank holiday of...      1   \n",
              "4  The selection on the menu was great and so wer...      1   \n",
              "\n",
              "                                 Preprocessed_Review  \n",
              "0                               wow loved this place  \n",
              "1                                  crust is not good  \n",
              "2           not tasty and the texture was just nasty  \n",
              "3  stopped by during the late may bank holiday of...  \n",
              "4  the selection on the menu was great and so wer...  "
            ],
            "text/html": [
              "\n",
              "  <div id=\"df-3c09f7fe-7c9d-46e6-81c2-e5dacdb860a3\" class=\"colab-df-container\">\n",
              "    <div>\n",
              "<style scoped>\n",
              "    .dataframe tbody tr th:only-of-type {\n",
              "        vertical-align: middle;\n",
              "    }\n",
              "\n",
              "    .dataframe tbody tr th {\n",
              "        vertical-align: top;\n",
              "    }\n",
              "\n",
              "    .dataframe thead th {\n",
              "        text-align: right;\n",
              "    }\n",
              "</style>\n",
              "<table border=\"1\" class=\"dataframe\">\n",
              "  <thead>\n",
              "    <tr style=\"text-align: right;\">\n",
              "      <th></th>\n",
              "      <th>Review</th>\n",
              "      <th>Liked</th>\n",
              "      <th>Preprocessed_Review</th>\n",
              "    </tr>\n",
              "  </thead>\n",
              "  <tbody>\n",
              "    <tr>\n",
              "      <th>0</th>\n",
              "      <td>Wow... Loved this place.</td>\n",
              "      <td>1</td>\n",
              "      <td>wow loved this place</td>\n",
              "    </tr>\n",
              "    <tr>\n",
              "      <th>1</th>\n",
              "      <td>Crust is not good.</td>\n",
              "      <td>0</td>\n",
              "      <td>crust is not good</td>\n",
              "    </tr>\n",
              "    <tr>\n",
              "      <th>2</th>\n",
              "      <td>Not tasty and the texture was just nasty.</td>\n",
              "      <td>0</td>\n",
              "      <td>not tasty and the texture was just nasty</td>\n",
              "    </tr>\n",
              "    <tr>\n",
              "      <th>3</th>\n",
              "      <td>Stopped by during the late May bank holiday of...</td>\n",
              "      <td>1</td>\n",
              "      <td>stopped by during the late may bank holiday of...</td>\n",
              "    </tr>\n",
              "    <tr>\n",
              "      <th>4</th>\n",
              "      <td>The selection on the menu was great and so wer...</td>\n",
              "      <td>1</td>\n",
              "      <td>the selection on the menu was great and so wer...</td>\n",
              "    </tr>\n",
              "  </tbody>\n",
              "</table>\n",
              "</div>\n",
              "    <div class=\"colab-df-buttons\">\n",
              "\n",
              "  <div class=\"colab-df-container\">\n",
              "    <button class=\"colab-df-convert\" onclick=\"convertToInteractive('df-3c09f7fe-7c9d-46e6-81c2-e5dacdb860a3')\"\n",
              "            title=\"Convert this dataframe to an interactive table.\"\n",
              "            style=\"display:none;\">\n",
              "\n",
              "  <svg xmlns=\"http://www.w3.org/2000/svg\" height=\"24px\" viewBox=\"0 -960 960 960\">\n",
              "    <path d=\"M120-120v-720h720v720H120Zm60-500h600v-160H180v160Zm220 220h160v-160H400v160Zm0 220h160v-160H400v160ZM180-400h160v-160H180v160Zm440 0h160v-160H620v160ZM180-180h160v-160H180v160Zm440 0h160v-160H620v160Z\"/>\n",
              "  </svg>\n",
              "    </button>\n",
              "\n",
              "  <style>\n",
              "    .colab-df-container {\n",
              "      display:flex;\n",
              "      gap: 12px;\n",
              "    }\n",
              "\n",
              "    .colab-df-convert {\n",
              "      background-color: #E8F0FE;\n",
              "      border: none;\n",
              "      border-radius: 50%;\n",
              "      cursor: pointer;\n",
              "      display: none;\n",
              "      fill: #1967D2;\n",
              "      height: 32px;\n",
              "      padding: 0 0 0 0;\n",
              "      width: 32px;\n",
              "    }\n",
              "\n",
              "    .colab-df-convert:hover {\n",
              "      background-color: #E2EBFA;\n",
              "      box-shadow: 0px 1px 2px rgba(60, 64, 67, 0.3), 0px 1px 3px 1px rgba(60, 64, 67, 0.15);\n",
              "      fill: #174EA6;\n",
              "    }\n",
              "\n",
              "    .colab-df-buttons div {\n",
              "      margin-bottom: 4px;\n",
              "    }\n",
              "\n",
              "    [theme=dark] .colab-df-convert {\n",
              "      background-color: #3B4455;\n",
              "      fill: #D2E3FC;\n",
              "    }\n",
              "\n",
              "    [theme=dark] .colab-df-convert:hover {\n",
              "      background-color: #434B5C;\n",
              "      box-shadow: 0px 1px 3px 1px rgba(0, 0, 0, 0.15);\n",
              "      filter: drop-shadow(0px 1px 2px rgba(0, 0, 0, 0.3));\n",
              "      fill: #FFFFFF;\n",
              "    }\n",
              "  </style>\n",
              "\n",
              "    <script>\n",
              "      const buttonEl =\n",
              "        document.querySelector('#df-3c09f7fe-7c9d-46e6-81c2-e5dacdb860a3 button.colab-df-convert');\n",
              "      buttonEl.style.display =\n",
              "        google.colab.kernel.accessAllowed ? 'block' : 'none';\n",
              "\n",
              "      async function convertToInteractive(key) {\n",
              "        const element = document.querySelector('#df-3c09f7fe-7c9d-46e6-81c2-e5dacdb860a3');\n",
              "        const dataTable =\n",
              "          await google.colab.kernel.invokeFunction('convertToInteractive',\n",
              "                                                    [key], {});\n",
              "        if (!dataTable) return;\n",
              "\n",
              "        const docLinkHtml = 'Like what you see? Visit the ' +\n",
              "          '<a target=\"_blank\" href=https://colab.research.google.com/notebooks/data_table.ipynb>data table notebook</a>'\n",
              "          + ' to learn more about interactive tables.';\n",
              "        element.innerHTML = '';\n",
              "        dataTable['output_type'] = 'display_data';\n",
              "        await google.colab.output.renderOutput(dataTable, element);\n",
              "        const docLink = document.createElement('div');\n",
              "        docLink.innerHTML = docLinkHtml;\n",
              "        element.appendChild(docLink);\n",
              "      }\n",
              "    </script>\n",
              "  </div>\n",
              "\n",
              "\n",
              "    <div id=\"df-e956c5a6-1197-4d33-9f03-e405edc5ee58\">\n",
              "      <button class=\"colab-df-quickchart\" onclick=\"quickchart('df-e956c5a6-1197-4d33-9f03-e405edc5ee58')\"\n",
              "                title=\"Suggest charts\"\n",
              "                style=\"display:none;\">\n",
              "\n",
              "<svg xmlns=\"http://www.w3.org/2000/svg\" height=\"24px\"viewBox=\"0 0 24 24\"\n",
              "     width=\"24px\">\n",
              "    <g>\n",
              "        <path d=\"M19 3H5c-1.1 0-2 .9-2 2v14c0 1.1.9 2 2 2h14c1.1 0 2-.9 2-2V5c0-1.1-.9-2-2-2zM9 17H7v-7h2v7zm4 0h-2V7h2v10zm4 0h-2v-4h2v4z\"/>\n",
              "    </g>\n",
              "</svg>\n",
              "      </button>\n",
              "\n",
              "<style>\n",
              "  .colab-df-quickchart {\n",
              "      --bg-color: #E8F0FE;\n",
              "      --fill-color: #1967D2;\n",
              "      --hover-bg-color: #E2EBFA;\n",
              "      --hover-fill-color: #174EA6;\n",
              "      --disabled-fill-color: #AAA;\n",
              "      --disabled-bg-color: #DDD;\n",
              "  }\n",
              "\n",
              "  [theme=dark] .colab-df-quickchart {\n",
              "      --bg-color: #3B4455;\n",
              "      --fill-color: #D2E3FC;\n",
              "      --hover-bg-color: #434B5C;\n",
              "      --hover-fill-color: #FFFFFF;\n",
              "      --disabled-bg-color: #3B4455;\n",
              "      --disabled-fill-color: #666;\n",
              "  }\n",
              "\n",
              "  .colab-df-quickchart {\n",
              "    background-color: var(--bg-color);\n",
              "    border: none;\n",
              "    border-radius: 50%;\n",
              "    cursor: pointer;\n",
              "    display: none;\n",
              "    fill: var(--fill-color);\n",
              "    height: 32px;\n",
              "    padding: 0;\n",
              "    width: 32px;\n",
              "  }\n",
              "\n",
              "  .colab-df-quickchart:hover {\n",
              "    background-color: var(--hover-bg-color);\n",
              "    box-shadow: 0 1px 2px rgba(60, 64, 67, 0.3), 0 1px 3px 1px rgba(60, 64, 67, 0.15);\n",
              "    fill: var(--button-hover-fill-color);\n",
              "  }\n",
              "\n",
              "  .colab-df-quickchart-complete:disabled,\n",
              "  .colab-df-quickchart-complete:disabled:hover {\n",
              "    background-color: var(--disabled-bg-color);\n",
              "    fill: var(--disabled-fill-color);\n",
              "    box-shadow: none;\n",
              "  }\n",
              "\n",
              "  .colab-df-spinner {\n",
              "    border: 2px solid var(--fill-color);\n",
              "    border-color: transparent;\n",
              "    border-bottom-color: var(--fill-color);\n",
              "    animation:\n",
              "      spin 1s steps(1) infinite;\n",
              "  }\n",
              "\n",
              "  @keyframes spin {\n",
              "    0% {\n",
              "      border-color: transparent;\n",
              "      border-bottom-color: var(--fill-color);\n",
              "      border-left-color: var(--fill-color);\n",
              "    }\n",
              "    20% {\n",
              "      border-color: transparent;\n",
              "      border-left-color: var(--fill-color);\n",
              "      border-top-color: var(--fill-color);\n",
              "    }\n",
              "    30% {\n",
              "      border-color: transparent;\n",
              "      border-left-color: var(--fill-color);\n",
              "      border-top-color: var(--fill-color);\n",
              "      border-right-color: var(--fill-color);\n",
              "    }\n",
              "    40% {\n",
              "      border-color: transparent;\n",
              "      border-right-color: var(--fill-color);\n",
              "      border-top-color: var(--fill-color);\n",
              "    }\n",
              "    60% {\n",
              "      border-color: transparent;\n",
              "      border-right-color: var(--fill-color);\n",
              "    }\n",
              "    80% {\n",
              "      border-color: transparent;\n",
              "      border-right-color: var(--fill-color);\n",
              "      border-bottom-color: var(--fill-color);\n",
              "    }\n",
              "    90% {\n",
              "      border-color: transparent;\n",
              "      border-bottom-color: var(--fill-color);\n",
              "    }\n",
              "  }\n",
              "</style>\n",
              "\n",
              "      <script>\n",
              "        async function quickchart(key) {\n",
              "          const quickchartButtonEl =\n",
              "            document.querySelector('#' + key + ' button');\n",
              "          quickchartButtonEl.disabled = true;  // To prevent multiple clicks.\n",
              "          quickchartButtonEl.classList.add('colab-df-spinner');\n",
              "          try {\n",
              "            const charts = await google.colab.kernel.invokeFunction(\n",
              "                'suggestCharts', [key], {});\n",
              "          } catch (error) {\n",
              "            console.error('Error during call to suggestCharts:', error);\n",
              "          }\n",
              "          quickchartButtonEl.classList.remove('colab-df-spinner');\n",
              "          quickchartButtonEl.classList.add('colab-df-quickchart-complete');\n",
              "        }\n",
              "        (() => {\n",
              "          let quickchartButtonEl =\n",
              "            document.querySelector('#df-e956c5a6-1197-4d33-9f03-e405edc5ee58 button');\n",
              "          quickchartButtonEl.style.display =\n",
              "            google.colab.kernel.accessAllowed ? 'block' : 'none';\n",
              "        })();\n",
              "      </script>\n",
              "    </div>\n",
              "\n",
              "    </div>\n",
              "  </div>\n"
            ],
            "application/vnd.google.colaboratory.intrinsic+json": {
              "type": "dataframe",
              "variable_name": "df",
              "summary": "{\n  \"name\": \"df\",\n  \"rows\": 1000,\n  \"fields\": [\n    {\n      \"column\": \"Review\",\n      \"properties\": {\n        \"dtype\": \"string\",\n        \"num_unique_values\": 996,\n        \"samples\": [\n          \"They were excellent.\",\n          \"Your servers suck, wait, correction, our server Heimer sucked.\",\n          \"Will be back again!\"\n        ],\n        \"semantic_type\": \"\",\n        \"description\": \"\"\n      }\n    },\n    {\n      \"column\": \"Liked\",\n      \"properties\": {\n        \"dtype\": \"number\",\n        \"std\": 0,\n        \"min\": 0,\n        \"max\": 1,\n        \"num_unique_values\": 2,\n        \"samples\": [\n          0,\n          1\n        ],\n        \"semantic_type\": \"\",\n        \"description\": \"\"\n      }\n    },\n    {\n      \"column\": \"Preprocessed_Review\",\n      \"properties\": {\n        \"dtype\": \"string\",\n        \"num_unique_values\": 995,\n        \"samples\": [\n          \"i could barely stomach the meal but didnt complain because it was a business lunch\",\n          \"similarly the delivery man did not say a word of apology when our food was  minutes late\"\n        ],\n        \"semantic_type\": \"\",\n        \"description\": \"\"\n      }\n    }\n  ]\n}"
            }
          },
          "metadata": {},
          "execution_count": 9
        }
      ]
    },
    {
      "cell_type": "markdown",
      "source": [
        "## Separate X and Y features"
      ],
      "metadata": {
        "id": "7Q1tKHepRewC"
      }
    },
    {
      "cell_type": "code",
      "source": [
        "X = df[\"Preprocessed_Review\"]\n",
        "Y = df[\"Liked\"]"
      ],
      "metadata": {
        "id": "YWYS5ZYoRY59"
      },
      "execution_count": 10,
      "outputs": []
    },
    {
      "cell_type": "code",
      "source": [
        "X.head()"
      ],
      "metadata": {
        "colab": {
          "base_uri": "https://localhost:8080/",
          "height": 241
        },
        "id": "9IUNIBSJRkjX",
        "outputId": "820413f7-f5a1-4a07-d408-e33a65411556"
      },
      "execution_count": 11,
      "outputs": [
        {
          "output_type": "execute_result",
          "data": {
            "text/plain": [
              "0                                 wow loved this place\n",
              "1                                    crust is not good\n",
              "2             not tasty and the texture was just nasty\n",
              "3    stopped by during the late may bank holiday of...\n",
              "4    the selection on the menu was great and so wer...\n",
              "Name: Preprocessed_Review, dtype: object"
            ],
            "text/html": [
              "<div>\n",
              "<style scoped>\n",
              "    .dataframe tbody tr th:only-of-type {\n",
              "        vertical-align: middle;\n",
              "    }\n",
              "\n",
              "    .dataframe tbody tr th {\n",
              "        vertical-align: top;\n",
              "    }\n",
              "\n",
              "    .dataframe thead th {\n",
              "        text-align: right;\n",
              "    }\n",
              "</style>\n",
              "<table border=\"1\" class=\"dataframe\">\n",
              "  <thead>\n",
              "    <tr style=\"text-align: right;\">\n",
              "      <th></th>\n",
              "      <th>Preprocessed_Review</th>\n",
              "    </tr>\n",
              "  </thead>\n",
              "  <tbody>\n",
              "    <tr>\n",
              "      <th>0</th>\n",
              "      <td>wow loved this place</td>\n",
              "    </tr>\n",
              "    <tr>\n",
              "      <th>1</th>\n",
              "      <td>crust is not good</td>\n",
              "    </tr>\n",
              "    <tr>\n",
              "      <th>2</th>\n",
              "      <td>not tasty and the texture was just nasty</td>\n",
              "    </tr>\n",
              "    <tr>\n",
              "      <th>3</th>\n",
              "      <td>stopped by during the late may bank holiday of...</td>\n",
              "    </tr>\n",
              "    <tr>\n",
              "      <th>4</th>\n",
              "      <td>the selection on the menu was great and so wer...</td>\n",
              "    </tr>\n",
              "  </tbody>\n",
              "</table>\n",
              "</div><br><label><b>dtype:</b> object</label>"
            ]
          },
          "metadata": {},
          "execution_count": 11
        }
      ]
    },
    {
      "cell_type": "code",
      "source": [
        "Y.head()"
      ],
      "metadata": {
        "colab": {
          "base_uri": "https://localhost:8080/",
          "height": 241
        },
        "id": "pfs3aaEHRl0L",
        "outputId": "d16927c1-f7e0-49bb-acd9-1ce71228aa95"
      },
      "execution_count": 12,
      "outputs": [
        {
          "output_type": "execute_result",
          "data": {
            "text/plain": [
              "0    1\n",
              "1    0\n",
              "2    0\n",
              "3    1\n",
              "4    1\n",
              "Name: Liked, dtype: int64"
            ],
            "text/html": [
              "<div>\n",
              "<style scoped>\n",
              "    .dataframe tbody tr th:only-of-type {\n",
              "        vertical-align: middle;\n",
              "    }\n",
              "\n",
              "    .dataframe tbody tr th {\n",
              "        vertical-align: top;\n",
              "    }\n",
              "\n",
              "    .dataframe thead th {\n",
              "        text-align: right;\n",
              "    }\n",
              "</style>\n",
              "<table border=\"1\" class=\"dataframe\">\n",
              "  <thead>\n",
              "    <tr style=\"text-align: right;\">\n",
              "      <th></th>\n",
              "      <th>Liked</th>\n",
              "    </tr>\n",
              "  </thead>\n",
              "  <tbody>\n",
              "    <tr>\n",
              "      <th>0</th>\n",
              "      <td>1</td>\n",
              "    </tr>\n",
              "    <tr>\n",
              "      <th>1</th>\n",
              "      <td>0</td>\n",
              "    </tr>\n",
              "    <tr>\n",
              "      <th>2</th>\n",
              "      <td>0</td>\n",
              "    </tr>\n",
              "    <tr>\n",
              "      <th>3</th>\n",
              "      <td>1</td>\n",
              "    </tr>\n",
              "    <tr>\n",
              "      <th>4</th>\n",
              "      <td>1</td>\n",
              "    </tr>\n",
              "  </tbody>\n",
              "</table>\n",
              "</div><br><label><b>dtype:</b> int64</label>"
            ]
          },
          "metadata": {},
          "execution_count": 12
        }
      ]
    },
    {
      "cell_type": "code",
      "source": [
        "X.shape"
      ],
      "metadata": {
        "colab": {
          "base_uri": "https://localhost:8080/"
        },
        "id": "P3A9Rk1SRnPD",
        "outputId": "1c3e4a4e-8329-4e01-df23-a9e3134cecc5"
      },
      "execution_count": 13,
      "outputs": [
        {
          "output_type": "execute_result",
          "data": {
            "text/plain": [
              "(1000,)"
            ]
          },
          "metadata": {},
          "execution_count": 13
        }
      ]
    },
    {
      "cell_type": "code",
      "source": [
        "Y.shape"
      ],
      "metadata": {
        "colab": {
          "base_uri": "https://localhost:8080/"
        },
        "id": "w_K57orSRpUV",
        "outputId": "a103fe9c-c51e-4b49-b2bd-bad2b87aa7d6"
      },
      "execution_count": 14,
      "outputs": [
        {
          "output_type": "execute_result",
          "data": {
            "text/plain": [
              "(1000,)"
            ]
          },
          "metadata": {},
          "execution_count": 14
        }
      ]
    },
    {
      "cell_type": "markdown",
      "source": [
        "## TFIDF:\n",
        "![image.png](data:image/png;base64,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)"
      ],
      "metadata": {
        "id": "MjDQorAsRvZg"
      }
    },
    {
      "cell_type": "code",
      "source": [
        "from sklearn.feature_extraction.text import TfidfVectorizer"
      ],
      "metadata": {
        "id": "on0aM4-BRqHO"
      },
      "execution_count": 15,
      "outputs": []
    },
    {
      "cell_type": "code",
      "source": [
        "tfidf = TfidfVectorizer()"
      ],
      "metadata": {
        "id": "RORQh9r6R3zl"
      },
      "execution_count": 16,
      "outputs": []
    },
    {
      "cell_type": "code",
      "source": [
        "xpre = tfidf.fit_transform(X).toarray()"
      ],
      "metadata": {
        "id": "rL0hKf0QR6nH"
      },
      "execution_count": 17,
      "outputs": []
    },
    {
      "cell_type": "code",
      "source": [
        "xpre.shape"
      ],
      "metadata": {
        "colab": {
          "base_uri": "https://localhost:8080/"
        },
        "id": "-7j7k4v1SAmP",
        "outputId": "1af84d2d-5a4a-4fb1-f081-0c54a6afa425"
      },
      "execution_count": 18,
      "outputs": [
        {
          "output_type": "execute_result",
          "data": {
            "text/plain": [
              "(1000, 2046)"
            ]
          },
          "metadata": {},
          "execution_count": 18
        }
      ]
    },
    {
      "cell_type": "code",
      "source": [
        "xpre"
      ],
      "metadata": {
        "colab": {
          "base_uri": "https://localhost:8080/"
        },
        "id": "fSOkrRWDSCI4",
        "outputId": "a6574591-c7c1-49d3-9297-058637b464f4"
      },
      "execution_count": 19,
      "outputs": [
        {
          "output_type": "execute_result",
          "data": {
            "text/plain": [
              "array([[0., 0., 0., ..., 0., 0., 0.],\n",
              "       [0., 0., 0., ..., 0., 0., 0.],\n",
              "       [0., 0., 0., ..., 0., 0., 0.],\n",
              "       ...,\n",
              "       [0., 0., 0., ..., 0., 0., 0.],\n",
              "       [0., 0., 0., ..., 0., 0., 0.],\n",
              "       [0., 0., 0., ..., 0., 0., 0.]])"
            ]
          },
          "metadata": {},
          "execution_count": 19
        }
      ]
    },
    {
      "cell_type": "code",
      "source": [
        "xpre[0]"
      ],
      "metadata": {
        "colab": {
          "base_uri": "https://localhost:8080/"
        },
        "id": "PYm7ECcPSDmR",
        "outputId": "f257b9c4-9230-4417-d462-de4bf81f84d8"
      },
      "execution_count": 20,
      "outputs": [
        {
          "output_type": "execute_result",
          "data": {
            "text/plain": [
              "array([0., 0., 0., ..., 0., 0., 0.])"
            ]
          },
          "metadata": {},
          "execution_count": 20
        }
      ]
    },
    {
      "cell_type": "markdown",
      "source": [
        "## Apply train test split"
      ],
      "metadata": {
        "id": "IszPM0n0SM1p"
      }
    },
    {
      "cell_type": "code",
      "source": [
        "from sklearn.model_selection import train_test_split\n",
        "xtrain,xtest,ytrain,ytest = train_test_split(xpre,Y,train_size=0.8,random_state=21)"
      ],
      "metadata": {
        "id": "YlMCJoFpSGLO"
      },
      "execution_count": 21,
      "outputs": []
    },
    {
      "cell_type": "code",
      "source": [
        "xtrain.shape"
      ],
      "metadata": {
        "colab": {
          "base_uri": "https://localhost:8080/"
        },
        "id": "NlT9Jzb8SYXp",
        "outputId": "24c04405-7bca-46d0-be9c-fe9aa83304b6"
      },
      "execution_count": 22,
      "outputs": [
        {
          "output_type": "execute_result",
          "data": {
            "text/plain": [
              "(800, 2046)"
            ]
          },
          "metadata": {},
          "execution_count": 22
        }
      ]
    },
    {
      "cell_type": "code",
      "source": [
        "xtest.shape"
      ],
      "metadata": {
        "colab": {
          "base_uri": "https://localhost:8080/"
        },
        "id": "iLYUS6pjSZXn",
        "outputId": "7bdb4c04-b73b-4868-e3d3-e10e69d90deb"
      },
      "execution_count": 23,
      "outputs": [
        {
          "output_type": "execute_result",
          "data": {
            "text/plain": [
              "(200, 2046)"
            ]
          },
          "metadata": {},
          "execution_count": 23
        }
      ]
    },
    {
      "cell_type": "markdown",
      "source": [
        "## Build the Neural Network"
      ],
      "metadata": {
        "id": "CauBg6fwSiew"
      }
    },
    {
      "cell_type": "code",
      "source": [
        "from keras.models import Sequential\n",
        "from keras.layers import Input,Dense,Dropout\n",
        "from keras.callbacks import EarlyStopping"
      ],
      "metadata": {
        "id": "6Fb-_yleSaIs"
      },
      "execution_count": 24,
      "outputs": []
    },
    {
      "cell_type": "code",
      "source": [
        "# Initialize the model\n",
        "model = Sequential()\n",
        "# add the input layer\n",
        "model.add(Input(shape=(xtrain.shape[1],)))\n",
        "# add the hidden layer1\n",
        "model.add(Dense(units=64,activation=\"relu\"))\n",
        "# add the dropout layer\n",
        "model.add(Dropout(rate=0.4))\n",
        "# add the hidden layer2\n",
        "model.add(Dense(units=32,activation=\"relu\"))\n",
        "# add the dropout layer\n",
        "model.add(Dropout(rate=0.2))\n",
        "# add the output layer\n",
        "model.add(Dense(units=1,activation=\"sigmoid\"))"
      ],
      "metadata": {
        "id": "i_aEGGKlSsSQ"
      },
      "execution_count": 25,
      "outputs": []
    },
    {
      "cell_type": "code",
      "source": [
        "model.summary()"
      ],
      "metadata": {
        "colab": {
          "base_uri": "https://localhost:8080/",
          "height": 289
        },
        "id": "OYTsn8HzTKp2",
        "outputId": "e73099e1-d569-476c-f070-e6e12a1369d9"
      },
      "execution_count": 26,
      "outputs": [
        {
          "output_type": "display_data",
          "data": {
            "text/plain": [
              "\u001b[1mModel: \"sequential\"\u001b[0m\n"
            ],
            "text/html": [
              "<pre style=\"white-space:pre;overflow-x:auto;line-height:normal;font-family:Menlo,'DejaVu Sans Mono',consolas,'Courier New',monospace\"><span style=\"font-weight: bold\">Model: \"sequential\"</span>\n",
              "</pre>\n"
            ]
          },
          "metadata": {}
        },
        {
          "output_type": "display_data",
          "data": {
            "text/plain": [
              "┏━━━━━━━━━━━━━━━━━━━━━━━━━━━━━━━━━┳━━━━━━━━━━━━━━━━━━━━━━━━┳━━━━━━━━━━━━━━━┓\n",
              "┃\u001b[1m \u001b[0m\u001b[1mLayer (type)                   \u001b[0m\u001b[1m \u001b[0m┃\u001b[1m \u001b[0m\u001b[1mOutput Shape          \u001b[0m\u001b[1m \u001b[0m┃\u001b[1m \u001b[0m\u001b[1m      Param #\u001b[0m\u001b[1m \u001b[0m┃\n",
              "┡━━━━━━━━━━━━━━━━━━━━━━━━━━━━━━━━━╇━━━━━━━━━━━━━━━━━━━━━━━━╇━━━━━━━━━━━━━━━┩\n",
              "│ dense (\u001b[38;5;33mDense\u001b[0m)                   │ (\u001b[38;5;45mNone\u001b[0m, \u001b[38;5;34m64\u001b[0m)             │       \u001b[38;5;34m131,008\u001b[0m │\n",
              "├─────────────────────────────────┼────────────────────────┼───────────────┤\n",
              "│ dropout (\u001b[38;5;33mDropout\u001b[0m)               │ (\u001b[38;5;45mNone\u001b[0m, \u001b[38;5;34m64\u001b[0m)             │             \u001b[38;5;34m0\u001b[0m │\n",
              "├─────────────────────────────────┼────────────────────────┼───────────────┤\n",
              "│ dense_1 (\u001b[38;5;33mDense\u001b[0m)                 │ (\u001b[38;5;45mNone\u001b[0m, \u001b[38;5;34m32\u001b[0m)             │         \u001b[38;5;34m2,080\u001b[0m │\n",
              "├─────────────────────────────────┼────────────────────────┼───────────────┤\n",
              "│ dropout_1 (\u001b[38;5;33mDropout\u001b[0m)             │ (\u001b[38;5;45mNone\u001b[0m, \u001b[38;5;34m32\u001b[0m)             │             \u001b[38;5;34m0\u001b[0m │\n",
              "├─────────────────────────────────┼────────────────────────┼───────────────┤\n",
              "│ dense_2 (\u001b[38;5;33mDense\u001b[0m)                 │ (\u001b[38;5;45mNone\u001b[0m, \u001b[38;5;34m1\u001b[0m)              │            \u001b[38;5;34m33\u001b[0m │\n",
              "└─────────────────────────────────┴────────────────────────┴───────────────┘\n"
            ],
            "text/html": [
              "<pre style=\"white-space:pre;overflow-x:auto;line-height:normal;font-family:Menlo,'DejaVu Sans Mono',consolas,'Courier New',monospace\">┏━━━━━━━━━━━━━━━━━━━━━━━━━━━━━━━━━┳━━━━━━━━━━━━━━━━━━━━━━━━┳━━━━━━━━━━━━━━━┓\n",
              "┃<span style=\"font-weight: bold\"> Layer (type)                    </span>┃<span style=\"font-weight: bold\"> Output Shape           </span>┃<span style=\"font-weight: bold\">       Param # </span>┃\n",
              "┡━━━━━━━━━━━━━━━━━━━━━━━━━━━━━━━━━╇━━━━━━━━━━━━━━━━━━━━━━━━╇━━━━━━━━━━━━━━━┩\n",
              "│ dense (<span style=\"color: #0087ff; text-decoration-color: #0087ff\">Dense</span>)                   │ (<span style=\"color: #00d7ff; text-decoration-color: #00d7ff\">None</span>, <span style=\"color: #00af00; text-decoration-color: #00af00\">64</span>)             │       <span style=\"color: #00af00; text-decoration-color: #00af00\">131,008</span> │\n",
              "├─────────────────────────────────┼────────────────────────┼───────────────┤\n",
              "│ dropout (<span style=\"color: #0087ff; text-decoration-color: #0087ff\">Dropout</span>)               │ (<span style=\"color: #00d7ff; text-decoration-color: #00d7ff\">None</span>, <span style=\"color: #00af00; text-decoration-color: #00af00\">64</span>)             │             <span style=\"color: #00af00; text-decoration-color: #00af00\">0</span> │\n",
              "├─────────────────────────────────┼────────────────────────┼───────────────┤\n",
              "│ dense_1 (<span style=\"color: #0087ff; text-decoration-color: #0087ff\">Dense</span>)                 │ (<span style=\"color: #00d7ff; text-decoration-color: #00d7ff\">None</span>, <span style=\"color: #00af00; text-decoration-color: #00af00\">32</span>)             │         <span style=\"color: #00af00; text-decoration-color: #00af00\">2,080</span> │\n",
              "├─────────────────────────────────┼────────────────────────┼───────────────┤\n",
              "│ dropout_1 (<span style=\"color: #0087ff; text-decoration-color: #0087ff\">Dropout</span>)             │ (<span style=\"color: #00d7ff; text-decoration-color: #00d7ff\">None</span>, <span style=\"color: #00af00; text-decoration-color: #00af00\">32</span>)             │             <span style=\"color: #00af00; text-decoration-color: #00af00\">0</span> │\n",
              "├─────────────────────────────────┼────────────────────────┼───────────────┤\n",
              "│ dense_2 (<span style=\"color: #0087ff; text-decoration-color: #0087ff\">Dense</span>)                 │ (<span style=\"color: #00d7ff; text-decoration-color: #00d7ff\">None</span>, <span style=\"color: #00af00; text-decoration-color: #00af00\">1</span>)              │            <span style=\"color: #00af00; text-decoration-color: #00af00\">33</span> │\n",
              "└─────────────────────────────────┴────────────────────────┴───────────────┘\n",
              "</pre>\n"
            ]
          },
          "metadata": {}
        },
        {
          "output_type": "display_data",
          "data": {
            "text/plain": [
              "\u001b[1m Total params: \u001b[0m\u001b[38;5;34m133,121\u001b[0m (520.00 KB)\n"
            ],
            "text/html": [
              "<pre style=\"white-space:pre;overflow-x:auto;line-height:normal;font-family:Menlo,'DejaVu Sans Mono',consolas,'Courier New',monospace\"><span style=\"font-weight: bold\"> Total params: </span><span style=\"color: #00af00; text-decoration-color: #00af00\">133,121</span> (520.00 KB)\n",
              "</pre>\n"
            ]
          },
          "metadata": {}
        },
        {
          "output_type": "display_data",
          "data": {
            "text/plain": [
              "\u001b[1m Trainable params: \u001b[0m\u001b[38;5;34m133,121\u001b[0m (520.00 KB)\n"
            ],
            "text/html": [
              "<pre style=\"white-space:pre;overflow-x:auto;line-height:normal;font-family:Menlo,'DejaVu Sans Mono',consolas,'Courier New',monospace\"><span style=\"font-weight: bold\"> Trainable params: </span><span style=\"color: #00af00; text-decoration-color: #00af00\">133,121</span> (520.00 KB)\n",
              "</pre>\n"
            ]
          },
          "metadata": {}
        },
        {
          "output_type": "display_data",
          "data": {
            "text/plain": [
              "\u001b[1m Non-trainable params: \u001b[0m\u001b[38;5;34m0\u001b[0m (0.00 B)\n"
            ],
            "text/html": [
              "<pre style=\"white-space:pre;overflow-x:auto;line-height:normal;font-family:Menlo,'DejaVu Sans Mono',consolas,'Courier New',monospace\"><span style=\"font-weight: bold\"> Non-trainable params: </span><span style=\"color: #00af00; text-decoration-color: #00af00\">0</span> (0.00 B)\n",
              "</pre>\n"
            ]
          },
          "metadata": {}
        }
      ]
    },
    {
      "cell_type": "code",
      "source": [
        "model.compile(loss=\"binary_crossentropy\",optimizer=\"adam\",metrics=[\"accuracy\"])"
      ],
      "metadata": {
        "id": "bemkHcHrTb_-"
      },
      "execution_count": 27,
      "outputs": []
    },
    {
      "cell_type": "code",
      "source": [
        "es = EarlyStopping(monitor=\"val_loss\",patience=10)"
      ],
      "metadata": {
        "id": "MnyM5x2kTjMC"
      },
      "execution_count": 33,
      "outputs": []
    },
    {
      "cell_type": "code",
      "source": [
        "hist = model.fit(xtrain,ytrain,validation_split=0.2,epochs=200,callbacks=[es])"
      ],
      "metadata": {
        "colab": {
          "base_uri": "https://localhost:8080/"
        },
        "id": "mOnWkJG4Tnqc",
        "outputId": "bde3baea-e540-405b-e088-8312ea228482"
      },
      "execution_count": 34,
      "outputs": [
        {
          "output_type": "stream",
          "name": "stdout",
          "text": [
            "Epoch 1/200\n",
            "\u001b[1m20/20\u001b[0m \u001b[32m━━━━━━━━━━━━━━━━━━━━\u001b[0m\u001b[37m\u001b[0m \u001b[1m0s\u001b[0m 7ms/step - accuracy: 1.0000 - loss: 0.0053 - val_accuracy: 0.7625 - val_loss: 0.5928\n",
            "Epoch 2/200\n",
            "\u001b[1m20/20\u001b[0m \u001b[32m━━━━━━━━━━━━━━━━━━━━\u001b[0m\u001b[37m\u001b[0m \u001b[1m0s\u001b[0m 5ms/step - accuracy: 1.0000 - loss: 0.0048 - val_accuracy: 0.7688 - val_loss: 0.5973\n",
            "Epoch 3/200\n",
            "\u001b[1m20/20\u001b[0m \u001b[32m━━━━━━━━━━━━━━━━━━━━\u001b[0m\u001b[37m\u001b[0m \u001b[1m0s\u001b[0m 5ms/step - accuracy: 1.0000 - loss: 0.0048 - val_accuracy: 0.7688 - val_loss: 0.6394\n",
            "Epoch 4/200\n",
            "\u001b[1m20/20\u001b[0m \u001b[32m━━━━━━━━━━━━━━━━━━━━\u001b[0m\u001b[37m\u001b[0m \u001b[1m0s\u001b[0m 5ms/step - accuracy: 1.0000 - loss: 0.0036 - val_accuracy: 0.7688 - val_loss: 0.6454\n",
            "Epoch 5/200\n",
            "\u001b[1m20/20\u001b[0m \u001b[32m━━━━━━━━━━━━━━━━━━━━\u001b[0m\u001b[37m\u001b[0m \u001b[1m0s\u001b[0m 6ms/step - accuracy: 1.0000 - loss: 0.0030 - val_accuracy: 0.7750 - val_loss: 0.6494\n",
            "Epoch 6/200\n",
            "\u001b[1m20/20\u001b[0m \u001b[32m━━━━━━━━━━━━━━━━━━━━\u001b[0m\u001b[37m\u001b[0m \u001b[1m0s\u001b[0m 6ms/step - accuracy: 1.0000 - loss: 0.0027 - val_accuracy: 0.7750 - val_loss: 0.6583\n",
            "Epoch 7/200\n",
            "\u001b[1m20/20\u001b[0m \u001b[32m━━━━━━━━━━━━━━━━━━━━\u001b[0m\u001b[37m\u001b[0m \u001b[1m0s\u001b[0m 5ms/step - accuracy: 1.0000 - loss: 0.0030 - val_accuracy: 0.7750 - val_loss: 0.6680\n",
            "Epoch 8/200\n",
            "\u001b[1m20/20\u001b[0m \u001b[32m━━━━━━━━━━━━━━━━━━━━\u001b[0m\u001b[37m\u001b[0m \u001b[1m0s\u001b[0m 5ms/step - accuracy: 1.0000 - loss: 0.0023 - val_accuracy: 0.7688 - val_loss: 0.6828\n",
            "Epoch 9/200\n",
            "\u001b[1m20/20\u001b[0m \u001b[32m━━━━━━━━━━━━━━━━━━━━\u001b[0m\u001b[37m\u001b[0m \u001b[1m0s\u001b[0m 5ms/step - accuracy: 1.0000 - loss: 0.0019 - val_accuracy: 0.7688 - val_loss: 0.6884\n",
            "Epoch 10/200\n",
            "\u001b[1m20/20\u001b[0m \u001b[32m━━━━━━━━━━━━━━━━━━━━\u001b[0m\u001b[37m\u001b[0m \u001b[1m0s\u001b[0m 5ms/step - accuracy: 1.0000 - loss: 0.0016 - val_accuracy: 0.7688 - val_loss: 0.6922\n",
            "Epoch 11/200\n",
            "\u001b[1m20/20\u001b[0m \u001b[32m━━━━━━━━━━━━━━━━━━━━\u001b[0m\u001b[37m\u001b[0m \u001b[1m0s\u001b[0m 5ms/step - accuracy: 1.0000 - loss: 0.0015 - val_accuracy: 0.7750 - val_loss: 0.6953\n"
          ]
        }
      ]
    },
    {
      "cell_type": "markdown",
      "source": [
        "## EVALUATE THE MODEL"
      ],
      "metadata": {
        "id": "JoygHx9QTyVd"
      }
    },
    {
      "cell_type": "code",
      "source": [
        "model.evaluate(xtrain,ytrain)"
      ],
      "metadata": {
        "colab": {
          "base_uri": "https://localhost:8080/"
        },
        "id": "xRDKZ5qaTt2u",
        "outputId": "01cfa11a-7759-4825-ad80-44b063500c48"
      },
      "execution_count": 35,
      "outputs": [
        {
          "output_type": "stream",
          "name": "stdout",
          "text": [
            "\u001b[1m25/25\u001b[0m \u001b[32m━━━━━━━━━━━━━━━━━━━━\u001b[0m\u001b[37m\u001b[0m \u001b[1m0s\u001b[0m 3ms/step - accuracy: 0.9935 - loss: 0.0204     \n"
          ]
        },
        {
          "output_type": "execute_result",
          "data": {
            "text/plain": [
              "[0.13947877287864685, 0.9549999833106995]"
            ]
          },
          "metadata": {},
          "execution_count": 35
        }
      ]
    },
    {
      "cell_type": "code",
      "source": [
        "model.evaluate(xtest,ytest)"
      ],
      "metadata": {
        "colab": {
          "base_uri": "https://localhost:8080/"
        },
        "id": "99tREsCST41p",
        "outputId": "a8ad6ced-d55e-42f8-a0b7-e0b87aac3c12"
      },
      "execution_count": 36,
      "outputs": [
        {
          "output_type": "stream",
          "name": "stdout",
          "text": [
            "\u001b[1m7/7\u001b[0m \u001b[32m━━━━━━━━━━━━━━━━━━━━\u001b[0m\u001b[37m\u001b[0m \u001b[1m0s\u001b[0m 8ms/step - accuracy: 0.8394 - loss: 0.4903 \n"
          ]
        },
        {
          "output_type": "execute_result",
          "data": {
            "text/plain": [
              "[0.6009831428527832, 0.7950000166893005]"
            ]
          },
          "metadata": {},
          "execution_count": 36
        }
      ]
    },
    {
      "cell_type": "code",
      "source": [
        "## Learning curve\n",
        "import matplotlib.pyplot as plt\n",
        "plt.plot(hist.history[\"loss\"],label=\"Training Loss\")\n",
        "plt.plot(hist.history[\"val_loss\"],label=\"Validation Loss\")\n",
        "plt.xlabel(\"Number of Epochs\")\n",
        "plt.ylabel(\"Binary Cross Entropy\")\n",
        "plt.legend()\n",
        "plt.title(\"Learning Curve\")\n",
        "plt.show()"
      ],
      "metadata": {
        "colab": {
          "base_uri": "https://localhost:8080/",
          "height": 472
        },
        "id": "vjDAtJcsT6vq",
        "outputId": "9edf7740-a8b3-4513-9884-b8dffccebc3c"
      },
      "execution_count": 37,
      "outputs": [
        {
          "output_type": "display_data",
          "data": {
            "text/plain": [
              "<Figure size 640x480 with 1 Axes>"
            ],
            "image/png": "[encoded data removed]"
          },
          "metadata": {}
        }
      ]
    },
    {
      "cell_type": "code",
      "source": [
        "probs = model.predict(xtest)\n",
        "probs[:5]"
      ],
      "metadata": {
        "colab": {
          "base_uri": "https://localhost:8080/"
        },
        "id": "miXsOuGJUEq0",
        "outputId": "a813999c-dd58-4a29-f72a-3d2bb947cdfe"
      },
      "execution_count": 38,
      "outputs": [
        {
          "output_type": "stream",
          "name": "stdout",
          "text": [
            "\u001b[1m7/7\u001b[0m \u001b[32m━━━━━━━━━━━━━━━━━━━━\u001b[0m\u001b[37m\u001b[0m \u001b[1m0s\u001b[0m 24ms/step\n"
          ]
        },
        {
          "output_type": "execute_result",
          "data": {
            "text/plain": [
              "array([[4.4325641e-01],\n",
              "       [4.4856351e-04],\n",
              "       [9.9683064e-01],\n",
              "       [9.9997139e-01],\n",
              "       [9.9988401e-01]], dtype=float32)"
            ]
          },
          "metadata": {},
          "execution_count": 38
        }
      ]
    },
    {
      "cell_type": "code",
      "source": [
        "preds = [1 if prob>0.5 else 0 for prob in probs]\n",
        "preds[:5]"
      ],
      "metadata": {
        "colab": {
          "base_uri": "https://localhost:8080/"
        },
        "id": "bu8Gm7PlUSmj",
        "outputId": "5b9af33e-a44d-42e9-9c6a-ea4995bc8e8b"
      },
      "execution_count": 39,
      "outputs": [
        {
          "output_type": "execute_result",
          "data": {
            "text/plain": [
              "[0, 0, 1, 1, 1]"
            ]
          },
          "metadata": {},
          "execution_count": 39
        }
      ]
    },
    {
      "cell_type": "code",
      "source": [
        "def preprocess_predict(text):\n",
        "  new_text = preprocess_text(text)\n",
        "  text_pre = tfidf.transform([new_text])\n",
        "  prob = model.predict(text_pre)\n",
        "  if prob>0.5:\n",
        "    return 1\n",
        "  else:\n",
        "    return 0"
      ],
      "metadata": {
        "id": "bCylrY28Wckg"
      },
      "execution_count": 59,
      "outputs": []
    },
    {
      "cell_type": "code",
      "source": [
        "from sklearn.metrics import ConfusionMatrixDisplay,confusion_matrix,classification_report"
      ],
      "metadata": {
        "id": "AnD3o3kqUcA4"
      },
      "execution_count": 40,
      "outputs": []
    },
    {
      "cell_type": "code",
      "source": [
        "cf = confusion_matrix(ytest,preds)\n",
        "ConfusionMatrixDisplay.from_predictions(ytest,preds)"
      ],
      "metadata": {
        "colab": {
          "base_uri": "https://localhost:8080/",
          "height": 466
        },
        "id": "h983gx_SUhjd",
        "outputId": "ab1bf242-9057-4645-8d16-ae78c448a261"
      },
      "execution_count": 42,
      "outputs": [
        {
          "output_type": "execute_result",
          "data": {
            "text/plain": [
              "<sklearn.metrics._plot.confusion_matrix.ConfusionMatrixDisplay at 0x7db8833e27d0>"
            ]
          },
          "metadata": {},
          "execution_count": 42
        },
        {
          "output_type": "display_data",
          "data": {
            "text/plain": [
              "<Figure size 640x480 with 2 Axes>"
            ],
            "image/png": "[encoded data removed]"
          },
          "metadata": {}
        }
      ]
    },
    {
      "cell_type": "code",
      "source": [
        "print(classification_report(ytest,preds))"
      ],
      "metadata": {
        "colab": {
          "base_uri": "https://localhost:8080/"
        },
        "id": "VMfDGJLBUwQI",
        "outputId": "b54e771b-5344-423c-b3a3-e86ac84632d1"
      },
      "execution_count": 43,
      "outputs": [
        {
          "output_type": "stream",
          "name": "stdout",
          "text": [
            "              precision    recall  f1-score   support\n",
            "\n",
            "           0       0.85      0.73      0.78       102\n",
            "           1       0.75      0.87      0.81        98\n",
            "\n",
            "    accuracy                           0.80       200\n",
            "   macro avg       0.80      0.80      0.79       200\n",
            "weighted avg       0.80      0.80      0.79       200\n",
            "\n"
          ]
        }
      ]
    },
    {
      "cell_type": "markdown",
      "source": [
        "## ROC - Area under the curve"
      ],
      "metadata": {
        "id": "88DR9dV3U5r6"
      }
    },
    {
      "cell_type": "code",
      "source": [
        "from sklearn.metrics import RocCurveDisplay\n",
        "RocCurveDisplay.from_predictions(ytest,preds)"
      ],
      "metadata": {
        "colab": {
          "base_uri": "https://localhost:8080/",
          "height": 468
        },
        "id": "E6BKL1KYU2Z3",
        "outputId": "3a76ac5f-0cc2-4683-9349-ccac8787a1a5"
      },
      "execution_count": 44,
      "outputs": [
        {
          "output_type": "execute_result",
          "data": {
            "text/plain": [
              "<sklearn.metrics._plot.roc_curve.RocCurveDisplay at 0x7db8831f34d0>"
            ]
          },
          "metadata": {},
          "execution_count": 44
        },
        {
          "output_type": "display_data",
          "data": {
            "text/plain": [
              "<Figure size 640x480 with 1 Axes>"
            ],
            "image/png": "[encoded data removed]"
          },
          "metadata": {}
        }
      ]
    },
    {
      "cell_type": "markdown",
      "source": [
        "## Above model provides AUC as 0.80 which is a good score to consider for final predictions"
      ],
      "metadata": {
        "id": "ezh5tfA5VITQ"
      }
    },
    {
      "cell_type": "markdown",
      "source": [
        "## Final predictions"
      ],
      "metadata": {
        "id": "aBqrrWubVXoe"
      }
    },
    {
      "cell_type": "code",
      "source": [
        "text = \"It took over 30 min to get their pizza, which was nothing like pizza\""
      ],
      "metadata": {
        "id": "gxlVA3ouVEFk"
      },
      "execution_count": 45,
      "outputs": []
    },
    {
      "cell_type": "code",
      "source": [
        "new_text = preprocess_text(text)"
      ],
      "metadata": {
        "id": "fAqjHi4BVh0t"
      },
      "execution_count": 46,
      "outputs": []
    },
    {
      "cell_type": "code",
      "source": [
        "text_pre = tfidf.transform([new_text]).toarray()"
      ],
      "metadata": {
        "id": "rrrljBHzVqBv"
      },
      "execution_count": 47,
      "outputs": []
    },
    {
      "cell_type": "code",
      "source": [
        "text_pre"
      ],
      "metadata": {
        "colab": {
          "base_uri": "https://localhost:8080/"
        },
        "id": "DGs1Cq1aVws5",
        "outputId": "23778b0e-9a62-4470-8575-f6d0d4c17424"
      },
      "execution_count": 48,
      "outputs": [
        {
          "output_type": "execute_result",
          "data": {
            "text/plain": [
              "array([[0., 0., 0., ..., 0., 0., 0.]])"
            ]
          },
          "metadata": {},
          "execution_count": 48
        }
      ]
    },
    {
      "cell_type": "code",
      "source": [
        "prob = model.predict(text_pre)\n",
        "prob"
      ],
      "metadata": {
        "colab": {
          "base_uri": "https://localhost:8080/"
        },
        "id": "xMT-hrsRVxk5",
        "outputId": "50930b94-3b64-45f5-dbbe-24f4520ac375"
      },
      "execution_count": 49,
      "outputs": [
        {
          "output_type": "stream",
          "name": "stdout",
          "text": [
            "\u001b[1m1/1\u001b[0m \u001b[32m━━━━━━━━━━━━━━━━━━━━\u001b[0m\u001b[37m\u001b[0m \u001b[1m0s\u001b[0m 317ms/step\n"
          ]
        },
        {
          "output_type": "execute_result",
          "data": {
            "text/plain": [
              "array([[0.00427042]], dtype=float32)"
            ]
          },
          "metadata": {},
          "execution_count": 49
        }
      ]
    },
    {
      "cell_type": "code",
      "source": [
        "if prob>0.5:\n",
        "  print(1)\n",
        "else:\n",
        "  print(0)"
      ],
      "metadata": {
        "colab": {
          "base_uri": "https://localhost:8080/"
        },
        "id": "hdA-iR92V1bL",
        "outputId": "53e3914f-6207-4710-f228-acdfcea38058"
      },
      "execution_count": 51,
      "outputs": [
        {
          "output_type": "stream",
          "name": "stdout",
          "text": [
            "0\n"
          ]
        }
      ]
    },
    {
      "cell_type": "code",
      "source": [
        "t2 = \"We waited for thirty minutes in vain\"\n",
        "op = preprocess_predict(t2)\n",
        "print(op)"
      ],
      "metadata": {
        "colab": {
          "base_uri": "https://localhost:8080/"
        },
        "id": "Ll0dWovLW3Bx",
        "outputId": "874d9d36-a5a0-475b-ff60-b985f0a7e88d"
      },
      "execution_count": 60,
      "outputs": [
        {
          "output_type": "stream",
          "name": "stdout",
          "text": [
            "\u001b[1m1/1\u001b[0m \u001b[32m━━━━━━━━━━━━━━━━━━━━\u001b[0m\u001b[37m\u001b[0m \u001b[1m0s\u001b[0m 305ms/step\n",
            "0\n"
          ]
        }
      ]
    },
    {
      "cell_type": "code",
      "source": [
        "t3 = \"this was a different cut than the piece the other day but still wonderful and tender s well as well flavored.\"\n",
        "op2 = preprocess_predict(t3)\n",
        "print(op2)"
      ],
      "metadata": {
        "colab": {
          "base_uri": "https://localhost:8080/"
        },
        "id": "6lmn2UsOXPp3",
        "outputId": "263148ba-dcd3-434d-e89d-4474388f9d8b"
      },
      "execution_count": 61,
      "outputs": [
        {
          "output_type": "stream",
          "name": "stdout",
          "text": [
            "\u001b[1m1/1\u001b[0m \u001b[32m━━━━━━━━━━━━━━━━━━━━\u001b[0m\u001b[37m\u001b[0m \u001b[1m0s\u001b[0m 454ms/step\n",
            "1\n"
          ]
        }
      ]
    },
    {
      "cell_type": "markdown",
      "source": [
        "## save the model"
      ],
      "metadata": {
        "id": "J0C_YOymWKQ5"
      }
    },
    {
      "cell_type": "code",
      "source": [
        "model.save(\"SentimentAnalysis.keras\")"
      ],
      "metadata": {
        "id": "Av1LmiE9WAEH"
      },
      "execution_count": 52,
      "outputs": []
    },
    {
      "cell_type": "code",
      "source": [
        "from keras.models import load_model\n",
        "m1 = load_model('/content/SentimentAnalysis.keras')\n",
        "m1.summary()"
      ],
      "metadata": {
        "colab": {
          "base_uri": "https://localhost:8080/",
          "height": 305
        },
        "id": "-QEM0FxvWN7W",
        "outputId": "077409be-0d2c-41ec-a7dd-23d53949fcd7"
      },
      "execution_count": 53,
      "outputs": [
        {
          "output_type": "display_data",
          "data": {
            "text/plain": [
              "\u001b[1mModel: \"sequential\"\u001b[0m\n"
            ],
            "text/html": [
              "<pre style=\"white-space:pre;overflow-x:auto;line-height:normal;font-family:Menlo,'DejaVu Sans Mono',consolas,'Courier New',monospace\"><span style=\"font-weight: bold\">Model: \"sequential\"</span>\n",
              "</pre>\n"
            ]
          },
          "metadata": {}
        },
        {
          "output_type": "display_data",
          "data": {
            "text/plain": [
              "┏━━━━━━━━━━━━━━━━━━━━━━━━━━━━━━━━━┳━━━━━━━━━━━━━━━━━━━━━━━━┳━━━━━━━━━━━━━━━┓\n",
              "┃\u001b[1m \u001b[0m\u001b[1mLayer (type)                   \u001b[0m\u001b[1m \u001b[0m┃\u001b[1m \u001b[0m\u001b[1mOutput Shape          \u001b[0m\u001b[1m \u001b[0m┃\u001b[1m \u001b[0m\u001b[1m      Param #\u001b[0m\u001b[1m \u001b[0m┃\n",
              "┡━━━━━━━━━━━━━━━━━━━━━━━━━━━━━━━━━╇━━━━━━━━━━━━━━━━━━━━━━━━╇━━━━━━━━━━━━━━━┩\n",
              "│ dense (\u001b[38;5;33mDense\u001b[0m)                   │ (\u001b[38;5;45mNone\u001b[0m, \u001b[38;5;34m64\u001b[0m)             │       \u001b[38;5;34m131,008\u001b[0m │\n",
              "├─────────────────────────────────┼────────────────────────┼───────────────┤\n",
              "│ dropout (\u001b[38;5;33mDropout\u001b[0m)               │ (\u001b[38;5;45mNone\u001b[0m, \u001b[38;5;34m64\u001b[0m)             │             \u001b[38;5;34m0\u001b[0m │\n",
              "├─────────────────────────────────┼────────────────────────┼───────────────┤\n",
              "│ dense_1 (\u001b[38;5;33mDense\u001b[0m)                 │ (\u001b[38;5;45mNone\u001b[0m, \u001b[38;5;34m32\u001b[0m)             │         \u001b[38;5;34m2,080\u001b[0m │\n",
              "├─────────────────────────────────┼────────────────────────┼───────────────┤\n",
              "│ dropout_1 (\u001b[38;5;33mDropout\u001b[0m)             │ (\u001b[38;5;45mNone\u001b[0m, \u001b[38;5;34m32\u001b[0m)             │             \u001b[38;5;34m0\u001b[0m │\n",
              "├─────────────────────────────────┼────────────────────────┼───────────────┤\n",
              "│ dense_2 (\u001b[38;5;33mDense\u001b[0m)                 │ (\u001b[38;5;45mNone\u001b[0m, \u001b[38;5;34m1\u001b[0m)              │            \u001b[38;5;34m33\u001b[0m │\n",
              "└─────────────────────────────────┴────────────────────────┴───────────────┘\n"
            ],
            "text/html": [
              "<pre style=\"white-space:pre;overflow-x:auto;line-height:normal;font-family:Menlo,'DejaVu Sans Mono',consolas,'Courier New',monospace\">┏━━━━━━━━━━━━━━━━━━━━━━━━━━━━━━━━━┳━━━━━━━━━━━━━━━━━━━━━━━━┳━━━━━━━━━━━━━━━┓\n",
              "┃<span style=\"font-weight: bold\"> Layer (type)                    </span>┃<span style=\"font-weight: bold\"> Output Shape           </span>┃<span style=\"font-weight: bold\">       Param # </span>┃\n",
              "┡━━━━━━━━━━━━━━━━━━━━━━━━━━━━━━━━━╇━━━━━━━━━━━━━━━━━━━━━━━━╇━━━━━━━━━━━━━━━┩\n",
              "│ dense (<span style=\"color: #0087ff; text-decoration-color: #0087ff\">Dense</span>)                   │ (<span style=\"color: #00d7ff; text-decoration-color: #00d7ff\">None</span>, <span style=\"color: #00af00; text-decoration-color: #00af00\">64</span>)             │       <span style=\"color: #00af00; text-decoration-color: #00af00\">131,008</span> │\n",
              "├─────────────────────────────────┼────────────────────────┼───────────────┤\n",
              "│ dropout (<span style=\"color: #0087ff; text-decoration-color: #0087ff\">Dropout</span>)               │ (<span style=\"color: #00d7ff; text-decoration-color: #00d7ff\">None</span>, <span style=\"color: #00af00; text-decoration-color: #00af00\">64</span>)             │             <span style=\"color: #00af00; text-decoration-color: #00af00\">0</span> │\n",
              "├─────────────────────────────────┼────────────────────────┼───────────────┤\n",
              "│ dense_1 (<span style=\"color: #0087ff; text-decoration-color: #0087ff\">Dense</span>)                 │ (<span style=\"color: #00d7ff; text-decoration-color: #00d7ff\">None</span>, <span style=\"color: #00af00; text-decoration-color: #00af00\">32</span>)             │         <span style=\"color: #00af00; text-decoration-color: #00af00\">2,080</span> │\n",
              "├─────────────────────────────────┼────────────────────────┼───────────────┤\n",
              "│ dropout_1 (<span style=\"color: #0087ff; text-decoration-color: #0087ff\">Dropout</span>)             │ (<span style=\"color: #00d7ff; text-decoration-color: #00d7ff\">None</span>, <span style=\"color: #00af00; text-decoration-color: #00af00\">32</span>)             │             <span style=\"color: #00af00; text-decoration-color: #00af00\">0</span> │\n",
              "├─────────────────────────────────┼────────────────────────┼───────────────┤\n",
              "│ dense_2 (<span style=\"color: #0087ff; text-decoration-color: #0087ff\">Dense</span>)                 │ (<span style=\"color: #00d7ff; text-decoration-color: #00d7ff\">None</span>, <span style=\"color: #00af00; text-decoration-color: #00af00\">1</span>)              │            <span style=\"color: #00af00; text-decoration-color: #00af00\">33</span> │\n",
              "└─────────────────────────────────┴────────────────────────┴───────────────┘\n",
              "</pre>\n"
            ]
          },
          "metadata": {}
        },
        {
          "output_type": "display_data",
          "data": {
            "text/plain": [
              "\u001b[1m Total params: \u001b[0m\u001b[38;5;34m399,365\u001b[0m (1.52 MB)\n"
            ],
            "text/html": [
              "<pre style=\"white-space:pre;overflow-x:auto;line-height:normal;font-family:Menlo,'DejaVu Sans Mono',consolas,'Courier New',monospace\"><span style=\"font-weight: bold\"> Total params: </span><span style=\"color: #00af00; text-decoration-color: #00af00\">399,365</span> (1.52 MB)\n",
              "</pre>\n"
            ]
          },
          "metadata": {}
        },
        {
          "output_type": "display_data",
          "data": {
            "text/plain": [
              "\u001b[1m Trainable params: \u001b[0m\u001b[38;5;34m133,121\u001b[0m (520.00 KB)\n"
            ],
            "text/html": [
              "<pre style=\"white-space:pre;overflow-x:auto;line-height:normal;font-family:Menlo,'DejaVu Sans Mono',consolas,'Courier New',monospace\"><span style=\"font-weight: bold\"> Trainable params: </span><span style=\"color: #00af00; text-decoration-color: #00af00\">133,121</span> (520.00 KB)\n",
              "</pre>\n"
            ]
          },
          "metadata": {}
        },
        {
          "output_type": "display_data",
          "data": {
            "text/plain": [
              "\u001b[1m Non-trainable params: \u001b[0m\u001b[38;5;34m0\u001b[0m (0.00 B)\n"
            ],
            "text/html": [
              "<pre style=\"white-space:pre;overflow-x:auto;line-height:normal;font-family:Menlo,'DejaVu Sans Mono',consolas,'Courier New',monospace\"><span style=\"font-weight: bold\"> Non-trainable params: </span><span style=\"color: #00af00; text-decoration-color: #00af00\">0</span> (0.00 B)\n",
              "</pre>\n"
            ]
          },
          "metadata": {}
        },
        {
          "output_type": "display_data",
          "data": {
            "text/plain": [
              "\u001b[1m Optimizer params: \u001b[0m\u001b[38;5;34m266,244\u001b[0m (1.02 MB)\n"
            ],
            "text/html": [
              "<pre style=\"white-space:pre;overflow-x:auto;line-height:normal;font-family:Menlo,'DejaVu Sans Mono',consolas,'Courier New',monospace\"><span style=\"font-weight: bold\"> Optimizer params: </span><span style=\"color: #00af00; text-decoration-color: #00af00\">266,244</span> (1.02 MB)\n",
              "</pre>\n"
            ]
          },
          "metadata": {}
        }
      ]
    },
    {
      "cell_type": "code",
      "source": [],
      "metadata": {
        "id": "DnLQM-qIWW43"
      },
      "execution_count": null,
      "outputs": []
    }
  ]
}